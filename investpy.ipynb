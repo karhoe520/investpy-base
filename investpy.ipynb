{
 "cells": [
  {
   "cell_type": "markdown",
   "metadata": {},
   "source": [
    "## investpy exploration"
   ]
  },
  {
   "cell_type": "markdown",
   "metadata": {
    "collapsed": "true"
   },
   "source": [
    "### import required packages"
   ]
  },
  {
   "cell_type": "code",
   "execution_count": 1,
   "metadata": {},
   "outputs": [],
   "source": [
    "import os\n",
    "import investpy\n",
    "import pandas as pd"
   ]
  },
  {
   "cell_type": "markdown",
   "metadata": {
    "collapsed": "true"
   },
   "source": [
    "### get list of Malaysian stocks"
   ]
  },
  {
   "cell_type": "code",
   "execution_count": 2,
   "metadata": {},
   "outputs": [],
   "source": [
    "stocks = investpy.get_stocks_list(country=\"malaysia\")"
   ]
  },
  {
   "cell_type": "code",
   "execution_count": 3,
   "metadata": {},
   "outputs": [
    {
     "name": "stdout",
     "output_type": "stream",
     "text": [
      "Number of stocks: 929\n"
     ]
    }
   ],
   "source": [
    "print(f\"Number of stocks: {len(stocks)}\")"
   ]
  },
  {
   "cell_type": "markdown",
   "metadata": {},
   "source": [
    "### output each stock historical data as a feather file"
   ]
  },
  {
   "cell_type": "code",
   "execution_count": 17,
   "metadata": {},
   "outputs": [],
   "source": [
    "for s in stocks[395:]:\n",
    "    os.makedirs(\n",
    "        f\"{os.getenv('HOME')}/Desktop/investpy/{s}/20200430\",\n",
    "        exist_ok=True\n",
    "    )\n",
    "    os.chdir(f\"{os.getenv('HOME')}/Desktop/investpy/{s}/20200430\")\n",
    "    \n",
    "    df = investpy.get_stock_historical_data(\n",
    "        stock=s, country=\"malaysia\",\n",
    "        from_date=\"01/01/2010\", to_date=\"03/05/2020\", order=\"ascending\"\n",
    "    )\n",
    "    df.reset_index(inplace=True)\n",
    "    \n",
    "    df.to_feather(f\"{s}_base.feather\")"
   ]
  },
  {
   "cell_type": "code",
   "execution_count": 18,
   "metadata": {},
   "outputs": [
    {
     "data": {
      "text/plain": [
       "930"
      ]
     },
     "execution_count": 18,
     "metadata": {},
     "output_type": "execute_result"
    }
   ],
   "source": [
    "len(os.listdir(\"/Users/wktan/Desktop/investpy/\"))"
   ]
  }
 ],
 "metadata": {
  "kernelspec": {
   "display_name": "Python 3",
   "language": "python",
   "name": "python3"
  },
  "language_info": {
   "codemirror_mode": {
    "name": "ipython",
    "version": 3
   },
   "file_extension": ".py",
   "mimetype": "text/x-python",
   "name": "python",
   "nbconvert_exporter": "python",
   "pygments_lexer": "ipython3",
   "version": "3.7.6"
  }
 },
 "nbformat": 4,
 "nbformat_minor": 4
}
